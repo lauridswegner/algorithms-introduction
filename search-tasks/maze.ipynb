{
 "cells": [
  {
   "cell_type": "markdown",
   "id": "3db2e008-e238-4118-a21f-1dfdda1033e5",
   "metadata": {},
   "source": [
    "## maze\n",
    "\n",
    "maze as **two-dimensional-array** based of `Cell`-objects"
   ]
  },
  {
   "cell_type": "code",
   "execution_count": 26,
   "id": "6b4a46a3-044a-4903-b9ab-2d0218b09432",
   "metadata": {},
   "outputs": [],
   "source": [
    "from enum import Enum\n",
    "from typing import List, NamedTuple, Callable, Optional\n",
    "import random\n",
    "from math import sqrt"
   ]
  },
  {
   "cell_type": "code",
   "execution_count": 8,
   "id": "0aa58579-2d45-468a-87c5-69ce3f5b05ae",
   "metadata": {},
   "outputs": [],
   "source": [
    "class Cell(str, Enum):\n",
    "    EMPTY = \" \"\n",
    "    BLOCKED = \"X\"\n",
    "    START = \"S\"\n",
    "    GOAL = \"G\"\n",
    "    PATH = \"*\""
   ]
  },
  {
   "cell_type": "markdown",
   "id": "13edf8c9-d3eb-4cc7-9524-679790488581",
   "metadata": {},
   "source": [
    "need to access singular position in maze"
   ]
  },
  {
   "cell_type": "code",
   "execution_count": 9,
   "id": "24dc3620-10b5-4b0d-bfd5-b029403b6a15",
   "metadata": {},
   "outputs": [],
   "source": [
    "class MazeLocation(NamedTuple):\n",
    "    row: int\n",
    "    column: int"
   ]
  },
  {
   "cell_type": "markdown",
   "id": "cd1332c4-aa0e-4483-a040-977af3119c48",
   "metadata": {},
   "source": [
    "`Maze`Class"
   ]
  },
  {
   "cell_type": "code",
   "execution_count": 25,
   "id": "ca78e600-6113-4182-86f1-adb990fb059c",
   "metadata": {},
   "outputs": [],
   "source": [
    "class Maze:\n",
    "    def __init__(self, rows: int = 10, columns: int = 10, sparseness: float = 0.2, start: MazeLocation = MazeLocation(0,0), goal: MazeLocation = MazeLocation(9,9)) -> None:\n",
    "        # initialise instancevariables\n",
    "        self._rows: int = rows\n",
    "        self._columns: int = columns\n",
    "        self.start: MazeLocation = start\n",
    "        self.goal: MazeLocation = goal\n",
    "\n",
    "        # filling grid with empty cells\n",
    "        self._grid: List[List[Cell]] = [[Cell.EMPTY for c in range(columns)] for r in range(rows)]\n",
    "\n",
    "        # filling grid with random cells\n",
    "        self._randomly_fill(rows, columns, sparseness)\n",
    "\n",
    "        # paste start and goal position\n",
    "        self._grid[start.row][start.column] = Cell.START\n",
    "        self._grid[goal.row][goal.column] = Cell.GOAL\n",
    "\n",
    "\n",
    "    def _randomly_fill(self, rows: int, columns: int, sparseness: float):\n",
    "        for row in range(rows):\n",
    "            for column in range(columns):\n",
    "                if random.uniform(0, 1.0) < sparseness:\n",
    "                    self._grid[row][column] = Cell.BLOCKED\n",
    "\n",
    "    def __str__(self) -> str:\n",
    "        output: str = \"\"\n",
    "        for row in self._grid:\n",
    "            output += \"\".join([c.value for c in row]) + \"\\n\"\n",
    "        return output\n",
    "\n",
    "    def goal_test(self, ml: MazeLocation) -> bool:\n",
    "        return ml == self.goal\n",
    "\n",
    "    def successors(self, ml: MazeLocation) -> List[MazeLocation]:\n",
    "        locations: List[MazeLocation] = []\n",
    "        if ml.row + 1 < self._rows and self._grid[ml.row + 1][ml.column]!= Cell.BLOCKED:\n",
    "            locations.append(MazeLocation(ml.row + 1, ml.column))\n",
    "        if ml.row - 1 >= 0 and self._grid[ml.row - 1][ml.column] != Cell.BLOCKED:\n",
    "            locations.append(MazeLocation(ml.row - 1, ml.column))\n",
    "        if ml.column + 1 < self._columns and self._grid[ml.row][ml.column + 1] != Cell.BLOCKED:\n",
    "            locations.append(MazeLocation(ml.row, ml.column + 1))\n",
    "        if ml.column - 1 >= 0 and self._grid[ml.row][ml.column - 1] != Cell.BLOCKED:\n",
    "            locations.append(MazeLocation(ml.row, ml.column - 1))\n",
    "        return locations"
   ]
  },
  {
   "cell_type": "code",
   "execution_count": 22,
   "id": "19997dcd-fa67-4716-b2c9-7a2b4514c3df",
   "metadata": {},
   "outputs": [
    {
     "name": "stdout",
     "output_type": "stream",
     "text": [
      "S      XX \n",
      "  X       \n",
      "  XX      \n",
      "          \n",
      "     X    \n",
      "        X \n",
      " XX  X X  \n",
      " X        \n",
      "X         \n",
      "XX       G\n",
      "\n"
     ]
    }
   ],
   "source": [
    "maze: Maze = Maze()\n",
    "print(maze)"
   ]
  },
  {
   "cell_type": "markdown",
   "id": "250b4d7e-8959-4d62-92bd-e709729b7b12",
   "metadata": {},
   "source": [
    "### depth-first-search\n",
    "\n",
    "based of a stack"
   ]
  },
  {
   "cell_type": "code",
   "execution_count": null,
   "id": "181bdf17-ba1b-4794-ac3e-cacdc7dc4200",
   "metadata": {},
   "outputs": [],
   "source": []
  }
 ],
 "metadata": {
  "kernelspec": {
   "display_name": "Python 3 (ipykernel)",
   "language": "python",
   "name": "python3"
  },
  "language_info": {
   "codemirror_mode": {
    "name": "ipython",
    "version": 3
   },
   "file_extension": ".py",
   "mimetype": "text/x-python",
   "name": "python",
   "nbconvert_exporter": "python",
   "pygments_lexer": "ipython3",
   "version": "3.12.0"
  }
 },
 "nbformat": 4,
 "nbformat_minor": 5
}
