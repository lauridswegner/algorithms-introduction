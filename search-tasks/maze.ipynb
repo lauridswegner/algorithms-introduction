{
 "cells": [
  {
   "cell_type": "markdown",
   "id": "3db2e008-e238-4118-a21f-1dfdda1033e5",
   "metadata": {},
   "source": [
    "## maze\n",
    "\n",
    "maze as **two-dimensional-array** based of `Cell`-objects"
   ]
  },
  {
   "cell_type": "code",
   "execution_count": 30,
   "id": "6b4a46a3-044a-4903-b9ab-2d0218b09432",
   "metadata": {},
   "outputs": [],
   "source": [
    "from enum import Enum\n",
    "from typing import List, NamedTuple, Callable, Optional\n",
    "import random\n",
    "from math import sqrt\n",
    "from __future__ import annotations\n",
    "\n",
    "T = TypeVar('T')"
   ]
  },
  {
   "cell_type": "code",
   "execution_count": 8,
   "id": "0aa58579-2d45-468a-87c5-69ce3f5b05ae",
   "metadata": {},
   "outputs": [],
   "source": [
    "class Cell(str, Enum):\n",
    "    EMPTY = \" \"\n",
    "    BLOCKED = \"X\"\n",
    "    START = \"S\"\n",
    "    GOAL = \"G\"\n",
    "    PATH = \"*\""
   ]
  },
  {
   "cell_type": "markdown",
   "id": "13edf8c9-d3eb-4cc7-9524-679790488581",
   "metadata": {},
   "source": [
    "need to access singular position in maze"
   ]
  },
  {
   "cell_type": "code",
   "execution_count": 9,
   "id": "24dc3620-10b5-4b0d-bfd5-b029403b6a15",
   "metadata": {},
   "outputs": [],
   "source": [
    "class MazeLocation(NamedTuple):\n",
    "    row: int\n",
    "    column: int"
   ]
  },
  {
   "cell_type": "markdown",
   "id": "cd1332c4-aa0e-4483-a040-977af3119c48",
   "metadata": {},
   "source": [
    "`Maze`Class"
   ]
  },
  {
   "cell_type": "code",
   "execution_count": 33,
   "id": "ca78e600-6113-4182-86f1-adb990fb059c",
   "metadata": {},
   "outputs": [],
   "source": [
    "class Maze:\n",
    "    def __init__(self, rows: int = 10, columns: int = 10, sparseness: float = 0.2, start: MazeLocation = MazeLocation(0,0), goal: MazeLocation = MazeLocation(9,9)) -> None:\n",
    "        # initialise instancevariables\n",
    "        self._rows: int = rows\n",
    "        self._columns: int = columns\n",
    "        self.start: MazeLocation = start\n",
    "        self.goal: MazeLocation = goal\n",
    "\n",
    "        # filling grid with empty cells\n",
    "        self._grid: List[List[Cell]] = [[Cell.EMPTY for c in range(columns)] for r in range(rows)]\n",
    "\n",
    "        # filling grid with random cells\n",
    "        self._randomly_fill(rows, columns, sparseness)\n",
    "\n",
    "        # paste start and goal position\n",
    "        self._grid[start.row][start.column] = Cell.START\n",
    "        self._grid[goal.row][goal.column] = Cell.GOAL\n",
    "\n",
    "\n",
    "    def _randomly_fill(self, rows: int, columns: int, sparseness: float):\n",
    "        for row in range(rows):\n",
    "            for column in range(columns):\n",
    "                if random.uniform(0, 1.0) < sparseness:\n",
    "                    self._grid[row][column] = Cell.BLOCKED\n",
    "\n",
    "    def __str__(self) -> str:\n",
    "        output: str = \"\"\n",
    "        for row in self._grid:\n",
    "            output += \"\".join([c.value for c in row]) + \"\\n\"\n",
    "        return output\n",
    "\n",
    "    def goal_test(self, ml: MazeLocation) -> bool:\n",
    "        return ml == self.goal\n",
    "\n",
    "    def successors(self, ml: MazeLocation) -> List[MazeLocation]:\n",
    "        locations: List[MazeLocation] = []\n",
    "        if ml.row + 1 < self._rows and self._grid[ml.row + 1][ml.column]!= Cell.BLOCKED:\n",
    "            locations.append(MazeLocation(ml.row + 1, ml.column))\n",
    "        if ml.row - 1 >= 0 and self._grid[ml.row - 1][ml.column] != Cell.BLOCKED:\n",
    "            locations.append(MazeLocation(ml.row - 1, ml.column))\n",
    "        if ml.column + 1 < self._columns and self._grid[ml.row][ml.column + 1] != Cell.BLOCKED:\n",
    "            locations.append(MazeLocation(ml.row, ml.column + 1))\n",
    "        if ml.column - 1 >= 0 and self._grid[ml.row][ml.column - 1] != Cell.BLOCKED:\n",
    "            locations.append(MazeLocation(ml.row, ml.column - 1))\n",
    "        return locations\n",
    "\n",
    "    def mark(self, path: List[MazeLocation]):\n",
    "        for maze_location in path:\n",
    "            self._grid[maze_location.row][maze_location.column] = Cell.PATH\n",
    "        self._grid[self.start.row][self.start.column] = Cell.START\n",
    "        self._grid[self.goal.row][self.goal.column] = Cell.GOAL\n",
    "\n",
    "    def clear(self, path: List[MazeLocation]):\n",
    "        for maze_location in path:\n",
    "            self._grid[maze_location.row][maze_location.column] = Cell.EMPTY\n",
    "        self._grid[self.start.row][self.start.column] = Cell.START\n",
    "        self._grid[self.goal.row][self.goal.column] = Cell.GOAL"
   ]
  },
  {
   "cell_type": "code",
   "execution_count": 37,
   "id": "19997dcd-fa67-4716-b2c9-7a2b4514c3df",
   "metadata": {},
   "outputs": [
    {
     "name": "stdout",
     "output_type": "stream",
     "text": [
      "S   XX X  \n",
      "   X     X\n",
      "X         \n",
      " X        \n",
      " X    X   \n",
      "      X   \n",
      "        XX\n",
      "XX X    X \n",
      "   X      \n",
      "   X X   G\n",
      "\n"
     ]
    }
   ],
   "source": [
    "maze: Maze = Maze()\n",
    "print(maze)"
   ]
  },
  {
   "cell_type": "markdown",
   "id": "250b4d7e-8959-4d62-92bd-e709729b7b12",
   "metadata": {},
   "source": [
    "### depth-first-search\n",
    "\n",
    "based of a stack"
   ]
  },
  {
   "cell_type": "code",
   "execution_count": 28,
   "id": "181bdf17-ba1b-4794-ac3e-cacdc7dc4200",
   "metadata": {},
   "outputs": [],
   "source": [
    "class Stack(Generic[T]):\n",
    "    def __init__(self) -> None:\n",
    "        self._container: List[T] = []\n",
    "    @property\n",
    "    def empty(self) -> bool:\n",
    "        return not self._container\n",
    "\n",
    "    def push(self, item: T) -> None:\n",
    "        self._container.append(item)\n",
    "\n",
    "    def pop(self) -> T:\n",
    "        return self._container.pop()  # LIFO\n",
    "\n",
    "    def __repr__(self) -> str:\n",
    "        return repr(self._container)"
   ]
  },
  {
   "cell_type": "markdown",
   "id": "6684b81d-33af-45e4-b065-3bcef700e26a",
   "metadata": {},
   "source": [
    "and a Node"
   ]
  },
  {
   "cell_type": "code",
   "execution_count": 31,
   "id": "75676f59-c5b6-43d2-ad34-177346d9243e",
   "metadata": {},
   "outputs": [],
   "source": [
    "class Node(Generic[T]):\n",
    "    def __init__(self, state: T, parent: Optional[Node], cost: float = 0.0, heuristic: float = 0.0) -> None:\n",
    "        self.state: T = state\n",
    "        self.parent: Optional[Node] = parent\n",
    "        self.cost: float = cost\n",
    "        self.heuristic: float = heuristic\n",
    "\n",
    "    def __lt__(self, other: Node) -> bool:\n",
    "        return (self.cost + self.heuristic) < (other.cost + other.heuristic)"
   ]
  },
  {
   "cell_type": "code",
   "execution_count": 39,
   "id": "7de4750e-9334-49c2-96ae-bc931ddbb3c1",
   "metadata": {},
   "outputs": [],
   "source": [
    "def dfs(initial: T, goal_test: Callable[[T], bool], successors: Callable[[T], List[T]]) -> Optional[Node[T]]:\n",
    "    # frontier indicates unvisited places\n",
    "    frontier: Stack[Node[T]] = Stack()\n",
    "    frontier.push(Node(initial, None))\n",
    "    # explored indicates already visited places\n",
    "    explored: Set[T] = {initial}\n",
    "\n",
    "    # continue, as long as there are unvisited places\n",
    "    while not frontier.empty:\n",
    "        current_node: Node[T] = frontier.pop()\n",
    "        current_state: T = current_node.state\n",
    "        # if goal-destination, then done\n",
    "        if goal_test(current_state):\n",
    "            return current_node\n",
    "        # check where to go next and where we haven't visited yet\n",
    "        for child in successors(current_state):\n",
    "            if child in explored:  # skip already visited childs\n",
    "                continue\n",
    "            explored.add(child)\n",
    "            frontier.push(Node(child, current_node))\n",
    "    return None  # searched everything but never found target"
   ]
  },
  {
   "cell_type": "markdown",
   "id": "60712bf6-983e-4cb8-b6ff-93381a81cdfd",
   "metadata": {},
   "source": [
    "if `dfs()` is successfull, path can be reconstructed using `Node`-objects and their `.parent`-function"
   ]
  },
  {
   "cell_type": "code",
   "execution_count": 32,
   "id": "77477a81-35f8-4bf5-850f-d5002c0cbd28",
   "metadata": {},
   "outputs": [],
   "source": [
    "def node_to_path(node: Node[T]) -> List[T]:\n",
    "    path: List[T] = [node.state]\n",
    "    # backwards from end to start\n",
    "    while node.parent is not None:\n",
    "        node = node.parent\n",
    "        path.append(node.state)\n",
    "    path.reverse()\n",
    "    return path"
   ]
  },
  {
   "cell_type": "markdown",
   "id": "6cffed80-7677-44a6-81e6-6427e695360b",
   "metadata": {},
   "source": [
    "## dfs-test"
   ]
  },
  {
   "cell_type": "code",
   "execution_count": 43,
   "id": "c006abb6-804b-4b05-a614-a64804cb5738",
   "metadata": {},
   "outputs": [
    {
     "name": "stdout",
     "output_type": "stream",
     "text": [
      "S  XX  X  \n",
      "    X    X\n",
      " X      X \n",
      "    X   X \n",
      " XX       \n",
      "       X  \n",
      "    X   X \n",
      "  X    X  \n",
      "    X  X  \n",
      "        XG\n",
      "\n",
      "S**XX  X  \n",
      "  **X    X\n",
      " X *****X \n",
      "    X  *X \n",
      " XX    ***\n",
      "       X *\n",
      "    X   X*\n",
      "  X    X *\n",
      "    X  X *\n",
      "        XG\n",
      "\n"
     ]
    }
   ],
   "source": [
    "m: Maze = Maze()\n",
    "print(m)\n",
    "solution1: Optional[Node[MazeLocation]] = dfs(m.start, m.goal_test, m.successors)\n",
    "\n",
    "if solution1 is None:\n",
    "    print(\"no solution found via dfs\")\n",
    "else:\n",
    "    path1: List[MazeLocation] = node_to_path(solution1)\n",
    "    m.mark(path1)\n",
    "    print(m)\n",
    "    m.clear(path1)"
   ]
  }
 ],
 "metadata": {
  "kernelspec": {
   "display_name": "Python 3 (ipykernel)",
   "language": "python",
   "name": "python3"
  },
  "language_info": {
   "codemirror_mode": {
    "name": "ipython",
    "version": 3
   },
   "file_extension": ".py",
   "mimetype": "text/x-python",
   "name": "python",
   "nbconvert_exporter": "python",
   "pygments_lexer": "ipython3",
   "version": "3.12.0"
  }
 },
 "nbformat": 4,
 "nbformat_minor": 5
}
