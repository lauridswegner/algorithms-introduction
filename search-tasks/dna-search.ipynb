{
 "cells": [
  {
   "cell_type": "markdown",
   "id": "c979732d-d1e4-4088-adf7-5686227bc612",
   "metadata": {},
   "source": [
    "## dna-search\n",
    "<br>\n",
    "\n",
    "saving a **nucleotid** as `IntEnum`"
   ]
  },
  {
   "cell_type": "code",
   "execution_count": 1,
   "id": "84509b97-3737-43a8-8f1e-17efe02b0129",
   "metadata": {},
   "outputs": [],
   "source": [
    "from enum import IntEnum\n",
    "from typing import Tuple, List\n",
    "\n",
    "Nucleotide: IntEnum = IntEnum('Nucleotide', ('A', 'C', 'G', 'T'))"
   ]
  },
  {
   "cell_type": "markdown",
   "id": "22dec9f5-73df-437b-a1e7-dbeb78e49ad1",
   "metadata": {},
   "source": [
    "**codon** a tuple of three **nucleotid**-objects "
   ]
  },
  {
   "cell_type": "code",
   "execution_count": 2,
   "id": "fc4f0ab7-c721-4589-bc03-d51450ee5b84",
   "metadata": {},
   "outputs": [],
   "source": [
    "Codon = Tuple[Nucleotide, Nucleotide, Nucleotide]\n",
    "Gene = List[Codon]"
   ]
  },
  {
   "cell_type": "code",
   "execution_count": 3,
   "id": "2c58fb1d-1e20-441a-8236-901093cac13e",
   "metadata": {},
   "outputs": [],
   "source": [
    "gene_str: str = \"ACGTGGCTCTCTAACGTACGTACGTACGGGGTTTATATATACCCTAGGACTCCCTTT\""
   ]
  },
  {
   "cell_type": "code",
   "execution_count": 4,
   "id": "5f65a1e0-d53e-453b-a28a-696c0e010ad3",
   "metadata": {},
   "outputs": [],
   "source": [
    "def string_to_gene(s: str) -> Gene:\n",
    "    gene: Gene = []\n",
    "    for i in range(0, len(s), 3):\n",
    "        if (i+2) >= len(s):\n",
    "            return gene\n",
    "        codon: Codon = (Nucleotide[s[i]], Nucleotide[s[i+1]], Nucleotide[s[i+2]])\n",
    "        gene.append(codon)\n",
    "    return gene"
   ]
  },
  {
   "cell_type": "code",
   "execution_count": 7,
   "id": "10844ca4-a81b-472e-86d2-5a797aea8270",
   "metadata": {},
   "outputs": [],
   "source": [
    "my_gene: Gene = string_to_gene(gene_str)"
   ]
  },
  {
   "cell_type": "markdown",
   "id": "2b622bfb-986e-49e8-9a54-a9ccc1a65fad",
   "metadata": {},
   "source": [
    "***\n",
    "\n",
    "#### linear search"
   ]
  },
  {
   "cell_type": "code",
   "execution_count": 9,
   "id": "6011c233-68b7-4e48-ac23-aa9e01ecba42",
   "metadata": {},
   "outputs": [
    {
     "name": "stdout",
     "output_type": "stream",
     "text": [
      "True\n",
      "False\n"
     ]
    }
   ],
   "source": [
    "def linear_contains(gene: Gene, key_codon: Codon) -> bool:\n",
    "    for codon in gene:\n",
    "        if codon == key_codon:\n",
    "            return True\n",
    "    return False\n",
    "\n",
    "acg: Codon = (Nucleotide.A, Nucleotide.C, Nucleotide.G)\n",
    "gat: Codon = (Nucleotide.G, Nucleotide.A, Nucleotide.T)\n",
    "print(linear_contains(my_gene, acg))\n",
    "print(linear_contains(my_gene, gat))"
   ]
  },
  {
   "cell_type": "markdown",
   "id": "ebc255ce-a2eb-41a7-a395-39790d9ead57",
   "metadata": {},
   "source": [
    "***\n",
    "\n",
    "#### binary search"
   ]
  },
  {
   "cell_type": "code",
   "execution_count": 16,
   "id": "f98d6931-46b4-481b-9bf9-11b8635eea97",
   "metadata": {},
   "outputs": [],
   "source": [
    "def binary_contains(gene: Gene, key_codon: Codon) -> bool:\n",
    "    low: int = 0\n",
    "    high: int = len(gene) - 1\n",
    "    while low <= high:\n",
    "        mid: int = (low+high) // 2\n",
    "        if gene[mid] < key_codon:\n",
    "            low = mid + 1\n",
    "        elif gene[mid] > key_codon:\n",
    "            high = mid - 1\n",
    "        else:\n",
    "            return True\n",
    "    return False"
   ]
  },
  {
   "cell_type": "code",
   "execution_count": 17,
   "id": "023f84cc-d850-4e1e-9a2d-e801491b944c",
   "metadata": {},
   "outputs": [
    {
     "name": "stdout",
     "output_type": "stream",
     "text": [
      "True\n",
      "False\n"
     ]
    }
   ],
   "source": [
    "my_sorted_gene: Gene = sorted(my_gene)\n",
    "print(binary_contains(my_sorted_gene, acg))\n",
    "print(binary_contains(my_sorted_gene, gat))"
   ]
  },
  {
   "cell_type": "markdown",
   "id": "c931b59d-3c5b-4362-9c36-1efa0f23eafe",
   "metadata": {},
   "source": [
    "***\n",
    "\n",
    "#### making binary and linear search more generic"
   ]
  },
  {
   "cell_type": "code",
   "execution_count": 18,
   "id": "b25fdbb8-8559-43d9-9caf-9196ef66ac2d",
   "metadata": {},
   "outputs": [
    {
     "name": "stdout",
     "output_type": "stream",
     "text": [
      "Collecting typing_extensions\n",
      "  Downloading typing_extensions-4.9.0-py3-none-any.whl.metadata (3.0 kB)\n",
      "Downloading typing_extensions-4.9.0-py3-none-any.whl (32 kB)\n",
      "Installing collected packages: typing_extensions\n",
      "Successfully installed typing_extensions-4.9.0\n"
     ]
    }
   ],
   "source": [
    "!pip install typing_extensions"
   ]
  },
  {
   "cell_type": "code",
   "execution_count": 24,
   "id": "eb25a37b-6c89-4ea1-80c3-868c6705528b",
   "metadata": {},
   "outputs": [],
   "source": [
    "from __future__ import annotations\n",
    "from typing import TypeVar, Iterable, Sequence, Generic, List, Callable, Set, Deque, Dict, Any, Optional\n",
    "from typing_extensions import Protocol\n",
    "from heapq import heappush, heappop\n",
    "\n",
    "T = TypeVar('T')\n",
    "\n",
    "def linear_contains(iterable: Iterable[T], key: T) -> bool:\n",
    "    for item in iterable:\n",
    "        if item == key:\n",
    "            return True\n",
    "    return False\n",
    "\n",
    "C = TypeVar(\"C\", bound=\"Comparable\")\n",
    "\n",
    "class Comparable(Protocol):\n",
    "    def __eq__(self, other: Any) -> bool:\n",
    "        ...\n",
    "    def __lt__(self: C, other: C) -> bool:\n",
    "        ...\n",
    "    def __gt__(self: C, other: C) -> bool:\n",
    "        return (not self < other) and self != other\n",
    "\n",
    "    def __le__(self: C, other: C) -> bool:\n",
    "        return self < other or self == other\n",
    "\n",
    "    def __ge__(self: C, other: C) -> bool:\n",
    "        return not self < other\n",
    "\n",
    "\n",
    "def binary_contains(sequence: Sequence[C], key: C) -> bool:\n",
    "    low: int = 0\n",
    "    high: int = len(sequence) - 1\n",
    "    while low <= high: \n",
    "        mid: int = (low + high) // 2\n",
    "        if sequence[mid] < key:\n",
    "            low = mid + 1\n",
    "        elif sequence[mid] > key:\n",
    "            high = mid - 1\n",
    "        else:\n",
    "            return True\n",
    "    return False"
   ]
  },
  {
   "cell_type": "code",
   "execution_count": 25,
   "id": "dabe65c4-eae0-411f-a5d0-dec7d4092b86",
   "metadata": {},
   "outputs": [
    {
     "name": "stdout",
     "output_type": "stream",
     "text": [
      "True\n",
      "True\n",
      "False\n"
     ]
    }
   ],
   "source": [
    "print(linear_contains([1, 5, 15, 15, 15, 15, 20], 5))  # True\n",
    "print(binary_contains([\"a\", \"d\", \"e\", \"f\", \"z\"], \"f\"))  # True\n",
    "print(binary_contains([\"john\", \"mark\", \"ronald\", \"sarah\"], \"sheila\"))"
   ]
  }
 ],
 "metadata": {
  "kernelspec": {
   "display_name": "Python 3 (ipykernel)",
   "language": "python",
   "name": "python3"
  },
  "language_info": {
   "codemirror_mode": {
    "name": "ipython",
    "version": 3
   },
   "file_extension": ".py",
   "mimetype": "text/x-python",
   "name": "python",
   "nbconvert_exporter": "python",
   "pygments_lexer": "ipython3",
   "version": "3.12.0"
  }
 },
 "nbformat": 4,
 "nbformat_minor": 5
}
