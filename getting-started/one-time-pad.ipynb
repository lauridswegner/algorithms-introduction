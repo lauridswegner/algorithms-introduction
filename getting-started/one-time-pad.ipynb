{
 "cells": [
  {
   "cell_type": "markdown",
   "id": "54ecbac9-3eec-4728-a6cb-e22ed0ced295",
   "metadata": {},
   "source": [
    "## OneTimePad"
   ]
  },
  {
   "cell_type": "code",
   "execution_count": 1,
   "id": "d70f1f17-b7c6-42e9-8ab3-1518f675028c",
   "metadata": {},
   "outputs": [],
   "source": [
    "from secrets import token_bytes\n",
    "from typing import Tuple\n",
    "\n",
    "def random_key(length: int) -> int:\n",
    "    # generating random bytes with given length\n",
    "    tb: bytes = token_bytes(length)\n",
    "    # converting bytes to bit-string\n",
    "    return int.from_bytes(tb, \"big\")"
   ]
  },
  {
   "cell_type": "markdown",
   "id": "10a26ab2-19e5-4be9-a26b-ac23ad60cf2f",
   "metadata": {},
   "source": [
    "**encryption** <br>\n",
    "- calculate the XOR combination of\n",
    "    - an integer that represents the bytes of the original string\n",
    "    - randomly generated integer having the same length"
   ]
  },
  {
   "cell_type": "code",
   "execution_count": 5,
   "id": "d1bc9a09-a26c-4a80-b092-9821dfa7946d",
   "metadata": {},
   "outputs": [],
   "source": [
    "def encrypt(original: str) -> Tuple[int, int]:\n",
    "    original_bytes: bytes = original.encode()\n",
    "    dummy: int = random_key(len(original_bytes))\n",
    "    original_key: int = int.from_bytes(original_bytes, \"big\")\n",
    "    encrypted: int = original_key ^ dummy  # XOR\n",
    "    return dummy, encrypted"
   ]
  },
  {
   "cell_type": "markdown",
   "id": "4084927a-cc14-436b-9133-7f8ef6146341",
   "metadata": {},
   "source": [
    "***\n",
    "\n",
    "**note** <br> <br>\n",
    "`int.from_bytes()` accepts two parameters\n",
    "- first being the bytes that get converted into an integer\n",
    "- second being the byte-sequence (most/least significant byte)\n",
    "\n",
    "***"
   ]
  },
  {
   "cell_type": "markdown",
   "id": "f5128a4b-bb8c-4c6f-bdc0-fd3ff8bfa685",
   "metadata": {},
   "source": [
    "**decryption** <br>\n",
    "- combinate previously generated key-pair again using XOR-operation"
   ]
  },
  {
   "cell_type": "code",
   "execution_count": 3,
   "id": "f8de3abb-75b7-49a4-9fd1-b2abb3af4c3d",
   "metadata": {},
   "outputs": [],
   "source": [
    "def decrypt(key1: int, key2: int) -> str:\n",
    "    decrypted: int = key1 ^ key2 # XOR\n",
    "    temp: bytes = decrypted.to_bytes((decrypted.bit_length() + 7) // 8, \"big\")\n",
    "    return temp.decode()"
   ]
  },
  {
   "cell_type": "code",
   "execution_count": 12,
   "id": "c26b0184-cf28-4942-b154-75483e8d701c",
   "metadata": {},
   "outputs": [
    {
     "name": "stdout",
     "output_type": "stream",
     "text": [
      "9812263244000935296057017126160\n",
      "4176583377399798047233726032177\n"
     ]
    }
   ],
   "source": [
    "key1, key2 = encrypt(\"One Time Pad!\")\n",
    "print(key1)\n",
    "print(key2)"
   ]
  },
  {
   "cell_type": "code",
   "execution_count": 13,
   "id": "4fd07073-ae1e-4a8e-8d7c-0d9d0d15654a",
   "metadata": {},
   "outputs": [
    {
     "name": "stdout",
     "output_type": "stream",
     "text": [
      "One Time Pad!\n"
     ]
    }
   ],
   "source": [
    "result: str = decrypt(key1, key2)\n",
    "print(result)"
   ]
  },
  {
   "cell_type": "markdown",
   "id": "bb1c9262-0fb7-4db4-9799-57a535d0e052",
   "metadata": {},
   "source": [
    "***\n",
    "\n",
    "## implementation of one-time-pad to encrypt/decrypt images"
   ]
  },
  {
   "cell_type": "code",
   "execution_count": 20,
   "id": "b4baa769-0a0f-47c7-a9a8-68cdcc802f04",
   "metadata": {},
   "outputs": [],
   "source": [
    "from secrets import token_bytes\n",
    "from typing import Tuple\n",
    "from PIL import Image\n",
    "import io\n",
    "\n",
    "def random_key(length: int) -> int:\n",
    "    tb: bytes = token_bytes(length)\n",
    "    return int.from_bytes(tb, \"big\")\n",
    "\n",
    "def encrypt_image(image_path: str) -> Tuple[int, int, int]:\n",
    "    with open(image_path, \"rb\") as image_file:\n",
    "        original_bytes = image_file.read()\n",
    "    dummy = random_key(len(original_bytes))\n",
    "    original_key = int.from_bytes(original_bytes, \"big\")\n",
    "    encrypted = original_key ^ dummy  # XOR\n",
    "    return dummy, encrypted, len(original_bytes)\n",
    "\n",
    "def decrypt_image(key1: int, key2: int, size: int) -> Image:\n",
    "    decrypted = key1 ^ key2  # XOR\n",
    "    image_bytes = decrypted.to_bytes(size, \"big\")\n",
    "    return Image.open(io.BytesIO(image_bytes))\n",
    "\n",
    "# Encrypt the image\n",
    "dummy_key, encrypted_key, size = encrypt_image(\"getting-started/test-image.jpeg\")\n",
    "\n",
    "# Decrypt the image\n",
    "decrypted_image = decrypt_image(dummy_key, encrypted_key, size)\n",
    "decrypted_image.show()"
   ]
  },
  {
   "cell_type": "code",
   "execution_count": null,
   "id": "c56b8c4d-c4cd-494a-9590-6797730e8c34",
   "metadata": {},
   "outputs": [],
   "source": []
  }
 ],
 "metadata": {
  "kernelspec": {
   "display_name": "Python 3 (ipykernel)",
   "language": "python",
   "name": "python3"
  },
  "language_info": {
   "codemirror_mode": {
    "name": "ipython",
    "version": 3
   },
   "file_extension": ".py",
   "mimetype": "text/x-python",
   "name": "python",
   "nbconvert_exporter": "python",
   "pygments_lexer": "ipython3",
   "version": "3.12.0"
  }
 },
 "nbformat": 4,
 "nbformat_minor": 5
}
