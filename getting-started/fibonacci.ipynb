{
 "cells": [
  {
   "cell_type": "markdown",
   "id": "fca3ab74-6bdc-40f2-8344-da6dfa8d4db3",
   "metadata": {},
   "source": [
    "## fibonacci-sequence\n",
    "0, 1, 1, 3, 5, 8, 13, 21, ...\n",
    "\n",
    "$$\n",
    "fib(n) = fib(n-1) + fib(n-2)\n",
    "$$\n",
    "\n",
    "***\n",
    "\n",
    "**first idea** <br>\n",
    "(simply pasting the given function)"
   ]
  },
  {
   "cell_type": "code",
   "execution_count": 1,
   "id": "481ad2e5-2fdb-4505-ae9d-6546d4dce586",
   "metadata": {},
   "outputs": [],
   "source": [
    "def fib1(n: int) -> int:\n",
    "    return fib1(n-1) + fib(n-2)"
   ]
  },
  {
   "cell_type": "code",
   "execution_count": 2,
   "id": "a95966e4-c88f-4d32-b91c-9847d1192981",
   "metadata": {},
   "outputs": [
    {
     "ename": "RecursionError",
     "evalue": "maximum recursion depth exceeded",
     "output_type": "error",
     "traceback": [
      "\u001b[0;31m---------------------------------------------------------------------------\u001b[0m",
      "\u001b[0;31mRecursionError\u001b[0m                            Traceback (most recent call last)",
      "Cell \u001b[0;32mIn[2], line 1\u001b[0m\n\u001b[0;32m----> 1\u001b[0m \u001b[43mfib1\u001b[49m\u001b[43m(\u001b[49m\u001b[38;5;241;43m5\u001b[39;49m\u001b[43m)\u001b[49m\n",
      "Cell \u001b[0;32mIn[1], line 2\u001b[0m, in \u001b[0;36mfib1\u001b[0;34m(n)\u001b[0m\n\u001b[1;32m      1\u001b[0m \u001b[38;5;28;01mdef\u001b[39;00m \u001b[38;5;21mfib1\u001b[39m(n: \u001b[38;5;28mint\u001b[39m) \u001b[38;5;241m-\u001b[39m\u001b[38;5;241m>\u001b[39m \u001b[38;5;28mint\u001b[39m:\n\u001b[0;32m----> 2\u001b[0m     \u001b[38;5;28;01mreturn\u001b[39;00m \u001b[43mfib1\u001b[49m\u001b[43m(\u001b[49m\u001b[43mn\u001b[49m\u001b[38;5;241;43m-\u001b[39;49m\u001b[38;5;241;43m1\u001b[39;49m\u001b[43m)\u001b[49m \u001b[38;5;241m+\u001b[39m fib(n\u001b[38;5;241m-\u001b[39m\u001b[38;5;241m2\u001b[39m)\n",
      "Cell \u001b[0;32mIn[1], line 2\u001b[0m, in \u001b[0;36mfib1\u001b[0;34m(n)\u001b[0m\n\u001b[1;32m      1\u001b[0m \u001b[38;5;28;01mdef\u001b[39;00m \u001b[38;5;21mfib1\u001b[39m(n: \u001b[38;5;28mint\u001b[39m) \u001b[38;5;241m-\u001b[39m\u001b[38;5;241m>\u001b[39m \u001b[38;5;28mint\u001b[39m:\n\u001b[0;32m----> 2\u001b[0m     \u001b[38;5;28;01mreturn\u001b[39;00m \u001b[43mfib1\u001b[49m\u001b[43m(\u001b[49m\u001b[43mn\u001b[49m\u001b[38;5;241;43m-\u001b[39;49m\u001b[38;5;241;43m1\u001b[39;49m\u001b[43m)\u001b[49m \u001b[38;5;241m+\u001b[39m fib(n\u001b[38;5;241m-\u001b[39m\u001b[38;5;241m2\u001b[39m)\n",
      "    \u001b[0;31m[... skipping similar frames: fib1 at line 2 (2975 times)]\u001b[0m\n",
      "Cell \u001b[0;32mIn[1], line 2\u001b[0m, in \u001b[0;36mfib1\u001b[0;34m(n)\u001b[0m\n\u001b[1;32m      1\u001b[0m \u001b[38;5;28;01mdef\u001b[39;00m \u001b[38;5;21mfib1\u001b[39m(n: \u001b[38;5;28mint\u001b[39m) \u001b[38;5;241m-\u001b[39m\u001b[38;5;241m>\u001b[39m \u001b[38;5;28mint\u001b[39m:\n\u001b[0;32m----> 2\u001b[0m     \u001b[38;5;28;01mreturn\u001b[39;00m \u001b[43mfib1\u001b[49m\u001b[43m(\u001b[49m\u001b[43mn\u001b[49m\u001b[38;5;241;43m-\u001b[39;49m\u001b[38;5;241;43m1\u001b[39;49m\u001b[43m)\u001b[49m \u001b[38;5;241m+\u001b[39m fib(n\u001b[38;5;241m-\u001b[39m\u001b[38;5;241m2\u001b[39m)\n",
      "\u001b[0;31mRecursionError\u001b[0m: maximum recursion depth exceeded"
     ]
    }
   ],
   "source": [
    "fib1(5)"
   ]
  },
  {
   "cell_type": "markdown",
   "id": "ffa185ce-9586-4f43-98fc-2996bbc1c01e",
   "metadata": {},
   "source": [
    "runs indefinetly due to no end being defined, leading to an endless recursion\n",
    "\n",
    "<br>\n",
    "\n",
    "***\n",
    "\n",
    "**second idea** <br>\n",
    "(adding a break condition)"
   ]
  },
  {
   "cell_type": "code",
   "execution_count": 7,
   "id": "41d63a60-2abc-41ce-85a7-4065c10e621b",
   "metadata": {},
   "outputs": [],
   "source": [
    "def fib2(n: int) -> int:\n",
    "    if n < 2:\n",
    "        return n\n",
    "    return fib2(n-1) + fib2(n-2)"
   ]
  },
  {
   "cell_type": "code",
   "execution_count": 4,
   "id": "5a7dfb96-4d5e-4cc7-bca9-699eb3dfa666",
   "metadata": {},
   "outputs": [
    {
     "data": {
      "text/plain": [
       "5"
      ]
     },
     "execution_count": 4,
     "metadata": {},
     "output_type": "execute_result"
    }
   ],
   "source": [
    "fib2(5)"
   ]
  },
  {
   "cell_type": "code",
   "execution_count": 10,
   "id": "2c06c740-14b6-4ced-b4e2-515abde66ae0",
   "metadata": {},
   "outputs": [
    {
     "data": {
      "text/plain": [
       "55"
      ]
     },
     "execution_count": 10,
     "metadata": {},
     "output_type": "execute_result"
    }
   ],
   "source": [
    "fib2(10)"
   ]
  },
  {
   "cell_type": "markdown",
   "id": "d34cd8fc-7547-4fc2-b57e-7421657ef862",
   "metadata": {},
   "source": [
    "still unefficient due to exponential growth of every run\n",
    "\n",
    "<br>\n",
    "\n",
    "***\n",
    "\n",
    "**third idea** <br>\n",
    "(using *memorization* for already known values)"
   ]
  },
  {
   "cell_type": "code",
   "execution_count": 8,
   "id": "2e173d8c-459c-4982-aec7-8b18c6b96caa",
   "metadata": {},
   "outputs": [],
   "source": [
    "from typing import Dict\n",
    "\n",
    "memo: Dict[int, int] = {0:0, 1:1}\n",
    "\n",
    "def fib3(n: int) -> int:\n",
    "    if n not in memo:\n",
    "        memo[n] = fib3(n - 1) + fib3(n - 2)\n",
    "    return memo[n]"
   ]
  },
  {
   "cell_type": "code",
   "execution_count": 7,
   "id": "2ef2b5a5-7c51-4b9c-b9d9-e58920653315",
   "metadata": {},
   "outputs": [
    {
     "data": {
      "text/plain": [
       "5"
      ]
     },
     "execution_count": 7,
     "metadata": {},
     "output_type": "execute_result"
    }
   ],
   "source": [
    "fib3(5)"
   ]
  },
  {
   "cell_type": "code",
   "execution_count": 8,
   "id": "63af3c2a-d117-46b3-90ac-ba89c3595058",
   "metadata": {},
   "outputs": [
    {
     "data": {
      "text/plain": [
       "12586269025"
      ]
     },
     "execution_count": 8,
     "metadata": {},
     "output_type": "execute_result"
    }
   ],
   "source": [
    "fib3(50)"
   ]
  },
  {
   "cell_type": "markdown",
   "id": "76a22674-2c63-4757-a2d0-5a35b4890184",
   "metadata": {},
   "source": [
    "***\n",
    "**fourth idea** <br> (automated memorization using *lru_cache*)"
   ]
  },
  {
   "cell_type": "code",
   "execution_count": 9,
   "id": "3d3fd4fc-5443-477d-aea8-c4e9416a9948",
   "metadata": {},
   "outputs": [],
   "source": [
    "from functools import lru_cache\n",
    "@lru_cache(maxsize=None)\n",
    "\n",
    "def fib4(n: int) -> int:\n",
    "    if n < 2:\n",
    "        return n\n",
    "    return fib4(n - 2) + fib4(n - 1)"
   ]
  },
  {
   "cell_type": "code",
   "execution_count": 15,
   "id": "64bc16e1-d90f-4727-a039-795da8588a36",
   "metadata": {},
   "outputs": [
    {
     "data": {
      "text/plain": [
       "5"
      ]
     },
     "execution_count": 15,
     "metadata": {},
     "output_type": "execute_result"
    }
   ],
   "source": [
    "fib4(5)"
   ]
  },
  {
   "cell_type": "code",
   "execution_count": 16,
   "id": "da535595-3e65-4b26-8363-a92ae9e7f303",
   "metadata": {},
   "outputs": [
    {
     "data": {
      "text/plain": [
       "12586269025"
      ]
     },
     "execution_count": 16,
     "metadata": {},
     "output_type": "execute_result"
    }
   ],
   "source": [
    "fib4(50)"
   ]
  },
  {
   "cell_type": "markdown",
   "id": "58798a41-7ecd-4782-a6ba-b9dd3e683e03",
   "metadata": {},
   "source": [
    "***\n",
    "**fifth idea** <br> (iterative approach)"
   ]
  },
  {
   "cell_type": "code",
   "execution_count": 10,
   "id": "f78a5d1b-a221-4b52-8c8e-923061e43293",
   "metadata": {},
   "outputs": [],
   "source": [
    "def fib5(n: int) -> int:\n",
    "    if n == 0: return n\n",
    "    last: int = 0\n",
    "    next: int = 1\n",
    "    for _ in range(1, n):\n",
    "        last, next = next, last + next\n",
    "    return next"
   ]
  },
  {
   "cell_type": "code",
   "execution_count": 20,
   "id": "c47ccbbe-de6b-4f06-ae70-dfaf5917a68a",
   "metadata": {},
   "outputs": [
    {
     "data": {
      "text/plain": [
       "5"
      ]
     },
     "execution_count": 20,
     "metadata": {},
     "output_type": "execute_result"
    }
   ],
   "source": [
    "fib5(5)"
   ]
  },
  {
   "cell_type": "code",
   "execution_count": 29,
   "id": "873cf770-95b5-4390-ab57-6174aaeb800f",
   "metadata": {},
   "outputs": [
    {
     "data": {
      "text/plain": [
       "400805695072240470970514993214065752192289440772063392234116121035966330621821050108284603033716632771086638046166577665205834362327397885009536790892524821512145173749742393351263429067658996935575930135482780507243981402150702461932551227590433713277255705297537428017957026536279252053237729028633507123483103210846617774763936154673522664591736081039709294423865668046925492747583953758325850613548914282578320544573036249175099094644435323970587790740267131607004023987409385716162460955707793257532112771932704816713519196128834470721836094265012918046427449156654067195071358955104097973710150920536847877434256779886729555691213282504703193401739340461924048504866698176130757935914248753973087073009601101912877383634628929467608983980664185363370286731771712542583041365328648124549323878806758395652340861186334027392307091079257180835672989798524084534677252369585918458720952520972332496025465803523315515681084895362126005441170936820059518262349022456888758938672920855739736423917065122816343192172271301981007636070751378441363091187289522144227851382197807194256392294919912037019476582418451273767976783751999133072126657949249799858935787018952232743400610036315564885371356712960608966755186612620425868892621106627825137425386831657368826398245606147944273998498356443362170133234924531673939303668042878258282104212769625245680321344034442698232414181912301904509531018692483863038992377680591406376081935756597411807864832452421993121459549055042253305545594009110753730302061881025182053074077930494574304284381890534053065639084253641881363463311184024281835265103884539012874542416238100890688593076189105555658375552988619203325356676814545718066196038345684671830102920209857682912971565838896011294918349088792184108318689299230788355618638040186790724351073650210514429114905535411044888774713860041341593318365792673354888566799196442017231870631867558530906286613228902689695061557951752309687806567573290910909535395758148994377158637050112347651517847188123790794231572729345617619677555583207012253101701328971768827861922408064379891201972881554890367344239218306050355964382953279316318309272212482218232309006973312977359562553184608144571713073802285675503209229581312057259729362382786183100343961484090866057560474044189870633912200595478051573769889968342203512550302655117491740823696686983281784153050366346823513213598551985596176977626982962058849363351794302206703907577970065793839511591930741441079234179943480206539767561244271325923343752071038968002157889912694947204003637791271084190929058369801531787887444598295425899927970"
      ]
     },
     "execution_count": 29,
     "metadata": {},
     "output_type": "execute_result"
    }
   ],
   "source": [
    "fib5(12345)"
   ]
  },
  {
   "cell_type": "markdown",
   "id": "bd20b0e8-1474-4ebd-8759-3cd56d7a4f9e",
   "metadata": {},
   "source": [
    "***\n",
    "\n",
    "### introducing the transition to a generator"
   ]
  },
  {
   "cell_type": "code",
   "execution_count": 11,
   "id": "54650387-7784-4be2-aa6c-feeed3aee48d",
   "metadata": {},
   "outputs": [],
   "source": [
    "from typing import Generator\n",
    "\n",
    "def fib6(n: int) -> Generator[int, None, None]:\n",
    "    yield 0\n",
    "    if n > 0: yield 1\n",
    "    last: int = 0\n",
    "    next: int = 1\n",
    "    for _ in range(1, n):\n",
    "        last, next = next, last + next\n",
    "        yield next"
   ]
  },
  {
   "cell_type": "code",
   "execution_count": 26,
   "id": "7b5ef134-dd1a-496f-affb-10b47640924d",
   "metadata": {},
   "outputs": [
    {
     "name": "stdout",
     "output_type": "stream",
     "text": [
      "0\n",
      "1\n",
      "1\n",
      "2\n",
      "3\n",
      "5\n",
      "8\n",
      "13\n",
      "21\n",
      "34\n",
      "55\n",
      "89\n",
      "144\n",
      "233\n",
      "377\n",
      "610\n",
      "987\n",
      "1597\n",
      "2584\n",
      "4181\n",
      "6765\n",
      "10946\n",
      "17711\n",
      "28657\n",
      "46368\n",
      "75025\n",
      "121393\n",
      "196418\n",
      "317811\n",
      "514229\n",
      "832040\n",
      "1346269\n",
      "2178309\n",
      "3524578\n",
      "5702887\n",
      "9227465\n",
      "14930352\n",
      "24157817\n",
      "39088169\n",
      "63245986\n",
      "102334155\n",
      "165580141\n",
      "267914296\n",
      "433494437\n",
      "701408733\n",
      "1134903170\n",
      "1836311903\n",
      "2971215073\n",
      "4807526976\n",
      "7778742049\n",
      "12586269025\n"
     ]
    }
   ],
   "source": [
    "for fib_num in fib6(50):\n",
    "    print(fib_num)"
   ]
  },
  {
   "cell_type": "markdown",
   "id": "f0d9036f-4bc4-4ba3-bfd8-1cb689d89ad0",
   "metadata": {},
   "source": [
    "***\n",
    "\n",
    "## unit-tests"
   ]
  },
  {
   "cell_type": "code",
   "execution_count": 14,
   "id": "2e1d07aa-3930-46bb-9adc-f547ae36332c",
   "metadata": {},
   "outputs": [
    {
     "name": "stderr",
     "output_type": "stream",
     "text": [
      "....\n",
      "----------------------------------------------------------------------\n",
      "Ran 4 tests in 0.007s\n",
      "\n",
      "OK\n"
     ]
    },
    {
     "data": {
      "text/plain": [
       "<unittest.runner.TextTestResult run=4 errors=0 failures=0>"
      ]
     },
     "execution_count": 14,
     "metadata": {},
     "output_type": "execute_result"
    }
   ],
   "source": [
    "import unittest\n",
    "\n",
    "class TestFibonacciFunctions(unittest.TestCase):\n",
    "\n",
    "    def test_fibonacci_2(self):\n",
    "        self.assertEqual(fib2(10), 55)\n",
    "\n",
    "    def test_fibonacci_3(self):\n",
    "        self.assertEqual(fib3(10), 55)\n",
    "\n",
    "    def test_fibonacci_4(self):\n",
    "        self.assertEqual(fib4(10), 55)\n",
    "\n",
    "    def test_fibonacci_5(self):\n",
    "        self.assertEqual(fib5(10), 55)\n",
    "\n",
    "loader = unittest.TestLoader()\n",
    "suite = loader.loadTestsFromTestCase(TestFibonacciFunctions)\n",
    "runner = unittest.TextTestRunner()\n",
    "runner.run(suite)"
   ]
  },
  {
   "cell_type": "markdown",
   "id": "cfa8bb93-fce8-422d-990c-18117da633f2",
   "metadata": {},
   "source": [
    "***\n",
    "\n",
    "## performance-testing"
   ]
  },
  {
   "cell_type": "code",
   "execution_count": 23,
   "id": "7ffb86c3-39c6-46fd-a45f-c0c52d3a89e8",
   "metadata": {},
   "outputs": [
    {
     "name": "stdout",
     "output_type": "stream",
     "text": [
      "fib2: 0.1176995\n",
      "fib3: 0.0000090\n",
      "fib4: 0.0000108\n",
      "fib5: 0.0000608\n"
     ]
    }
   ],
   "source": [
    "for i in range(2,6):\n",
    "    print(\"fib\" + str(i) + \": {:.7f}\".format(timeit.timeit('fib' + str(i) + '(20)', globals=globals(), number=100)))"
   ]
  }
 ],
 "metadata": {
  "kernelspec": {
   "display_name": "Python 3 (ipykernel)",
   "language": "python",
   "name": "python3"
  },
  "language_info": {
   "codemirror_mode": {
    "name": "ipython",
    "version": 3
   },
   "file_extension": ".py",
   "mimetype": "text/x-python",
   "name": "python",
   "nbconvert_exporter": "python",
   "pygments_lexer": "ipython3",
   "version": "3.12.0"
  }
 },
 "nbformat": 4,
 "nbformat_minor": 5
}
