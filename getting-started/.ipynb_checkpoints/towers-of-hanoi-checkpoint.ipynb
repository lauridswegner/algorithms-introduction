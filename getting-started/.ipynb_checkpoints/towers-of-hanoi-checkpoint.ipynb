{
 "cells": [
  {
   "cell_type": "markdown",
   "id": "06147c28-848c-4075-9ee4-6c2ccb666091",
   "metadata": {},
   "source": [
    "## towers-of-hanoi\n",
    "<br>\n",
    "implementation of a stack"
   ]
  },
  {
   "cell_type": "code",
   "execution_count": 7,
   "id": "2cb050b5-c342-4f4f-a9d5-a2fee3e9ef68",
   "metadata": {},
   "outputs": [],
   "source": [
    "from typing import TypeVar, Generic, List\n",
    "\n",
    "T = TypeVar(\"T\")\n",
    "\n",
    "class Stack(Generic[T]):\n",
    "    def __init__(self) -> None:\n",
    "        self._container: List[T] = []\n",
    "    def push(self, item: T) -> None:\n",
    "        self._container.append(item)\n",
    "    def pop(self) -> T:\n",
    "        return self._container.pop()\n",
    "    def __repr__(self) -> str:\n",
    "        return repr(self._container)"
   ]
  },
  {
   "cell_type": "markdown",
   "id": "31298350-2b54-4847-ab63-b34fdb69dbcf",
   "metadata": {},
   "source": [
    "filling the first tower"
   ]
  },
  {
   "cell_type": "code",
   "execution_count": 8,
   "id": "5c9d109f-d5a2-43dd-8e39-7a059fc9be70",
   "metadata": {},
   "outputs": [],
   "source": [
    "num_discs: int = 3\n",
    "tower_a: Stack[int] = Stack()\n",
    "tower_b: Stack[int] = Stack()\n",
    "tower_c: Stack[int] = Stack()\n",
    "\n",
    "for i in range(1, num_discs + 1):\n",
    "    tower_a.push(i)"
   ]
  },
  {
   "cell_type": "markdown",
   "id": "b42bae7f-b93b-4510-a0c7-9d6d045aa4b6",
   "metadata": {},
   "source": [
    "hanoi-algorithm"
   ]
  },
  {
   "cell_type": "code",
   "execution_count": 9,
   "id": "835a6270-3bf4-44d6-ab53-a1c13bbf271f",
   "metadata": {},
   "outputs": [],
   "source": [
    "def hanoi(begin: Stack[int], end: Stack[int], temp: Stack[int], n: int) -> None:\n",
    "    if n == 1:\n",
    "        end.push(begin.pop())\n",
    "    else:\n",
    "        hanoi(begin, temp, end, n-1)\n",
    "        hanoi(begin, end, temp, 1)\n",
    "        hanoi(temp, end, begin, n-1)"
   ]
  },
  {
   "cell_type": "code",
   "execution_count": 10,
   "id": "f360a67b-26d9-41c6-bcc9-3c96f9b981ea",
   "metadata": {},
   "outputs": [
    {
     "name": "stdout",
     "output_type": "stream",
     "text": [
      "[]\n",
      "[]\n",
      "[1, 2, 3]\n"
     ]
    }
   ],
   "source": [
    "hanoi(tower_a, tower_c, tower_b, num_discs)\n",
    "print(tower_a)\n",
    "print(tower_b)\n",
    "print(tower_c)"
   ]
  },
  {
   "cell_type": "code",
   "execution_count": null,
   "id": "b137c34a-f238-4a68-b40b-3ac52ea45926",
   "metadata": {},
   "outputs": [],
   "source": []
  }
 ],
 "metadata": {
  "kernelspec": {
   "display_name": "Python 3 (ipykernel)",
   "language": "python",
   "name": "python3"
  },
  "language_info": {
   "codemirror_mode": {
    "name": "ipython",
    "version": 3
   },
   "file_extension": ".py",
   "mimetype": "text/x-python",
   "name": "python",
   "nbconvert_exporter": "python",
   "pygments_lexer": "ipython3",
   "version": "3.12.0"
  }
 },
 "nbformat": 4,
 "nbformat_minor": 5
}
