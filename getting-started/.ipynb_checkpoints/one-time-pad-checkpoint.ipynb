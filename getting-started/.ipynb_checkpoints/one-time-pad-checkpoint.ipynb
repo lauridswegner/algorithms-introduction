{
 "cells": [
  {
   "cell_type": "markdown",
   "id": "54ecbac9-3eec-4728-a6cb-e22ed0ced295",
   "metadata": {},
   "source": [
    "## OneTimePad"
   ]
  },
  {
   "cell_type": "code",
   "execution_count": 1,
   "id": "d70f1f17-b7c6-42e9-8ab3-1518f675028c",
   "metadata": {},
   "outputs": [],
   "source": [
    "from secrets import token_bytes\n",
    "from typing import Tuple\n",
    "\n",
    "def random_key(length: int) -> int:\n",
    "    # generating random bytes with given length\n",
    "    tb: bytes = token_bytes(length)\n",
    "    # converting bytes to bit-string\n",
    "    return int.from_bytes(tb, \"big\")"
   ]
  },
  {
   "cell_type": "markdown",
   "id": "10a26ab2-19e5-4be9-a26b-ac23ad60cf2f",
   "metadata": {},
   "source": [
    "**encryption** <br>\n",
    "- calculate the XOR combination of\n",
    "    - an integer that represents the bytes of the original string\n",
    "    - randomly generated integer having the same length"
   ]
  },
  {
   "cell_type": "code",
   "execution_count": 5,
   "id": "d1bc9a09-a26c-4a80-b092-9821dfa7946d",
   "metadata": {},
   "outputs": [],
   "source": [
    "def encrypt(original: str) -> Tuple[int, int]:\n",
    "    original_bytes: bytes = original.encode()\n",
    "    dummy: int = random_key(len(original_bytes))\n",
    "    original_key: int = int.from_bytes(original_bytes, \"big\")\n",
    "    encrypted: int = original_key ^ dummy  # XOR\n",
    "    return dummy, encrypted"
   ]
  },
  {
   "cell_type": "markdown",
   "id": "4084927a-cc14-436b-9133-7f8ef6146341",
   "metadata": {},
   "source": [
    "***\n",
    "\n",
    "**note** <br> <br>\n",
    "`int.from_bytes()` accepts two parameters\n",
    "- first being the bytes that get converted into an integer\n",
    "- second being the byte-sequence (most/least significant byte)\n",
    "\n",
    "***"
   ]
  },
  {
   "cell_type": "markdown",
   "id": "f5128a4b-bb8c-4c6f-bdc0-fd3ff8bfa685",
   "metadata": {},
   "source": [
    "**decryption** <br>\n",
    "- combinate previously generated key-pair again using XOR-operation"
   ]
  },
  {
   "cell_type": "code",
   "execution_count": 3,
   "id": "f8de3abb-75b7-49a4-9fd1-b2abb3af4c3d",
   "metadata": {},
   "outputs": [],
   "source": [
    "def decrypt(key1: int, key2: int) -> str:\n",
    "    decrypted: int = key1 ^ key2 # XOR\n",
    "    temp: bytes = decrypted.to_bytes((decrypted.bit_length() + 7) // 8, \"big\")\n",
    "    return temp.decode()"
   ]
  },
  {
   "cell_type": "code",
   "execution_count": 12,
   "id": "c26b0184-cf28-4942-b154-75483e8d701c",
   "metadata": {},
   "outputs": [
    {
     "name": "stdout",
     "output_type": "stream",
     "text": [
      "9812263244000935296057017126160\n",
      "4176583377399798047233726032177\n"
     ]
    }
   ],
   "source": [
    "key1, key2 = encrypt(\"One Time Pad!\")\n",
    "print(key1)\n",
    "print(key2)"
   ]
  },
  {
   "cell_type": "code",
   "execution_count": 13,
   "id": "4fd07073-ae1e-4a8e-8d7c-0d9d0d15654a",
   "metadata": {},
   "outputs": [
    {
     "name": "stdout",
     "output_type": "stream",
     "text": [
      "One Time Pad!\n"
     ]
    }
   ],
   "source": [
    "result: str = decrypt(key1, key2)\n",
    "print(result)"
   ]
  }
 ],
 "metadata": {
  "kernelspec": {
   "display_name": "Python 3 (ipykernel)",
   "language": "python",
   "name": "python3"
  },
  "language_info": {
   "codemirror_mode": {
    "name": "ipython",
    "version": 3
   },
   "file_extension": ".py",
   "mimetype": "text/x-python",
   "name": "python",
   "nbconvert_exporter": "python",
   "pygments_lexer": "ipython3",
   "version": "3.12.0"
  }
 },
 "nbformat": 4,
 "nbformat_minor": 5
}
