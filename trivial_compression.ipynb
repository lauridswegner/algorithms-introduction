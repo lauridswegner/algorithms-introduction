{
 "cells": [
  {
   "cell_type": "markdown",
   "id": "4bc53e1d-97c3-4f85-afd9-e39b04c65ee1",
   "metadata": {},
   "source": [
    "## trivial compression example using dna nucleotides\n",
    "\n",
    "<br>\n",
    "\n",
    "***\n",
    "\n",
    "<br>\n",
    "\n",
    "simply put, the portrayal of each nucleotide as a string-char is inefficient, considering one can store four different elements using **dual bits**\n",
    "\n",
    "$$\n",
    "2^2 = 4\n",
    "$$\n",
    "\n",
    "| nucleotide | bits |\n",
    "| --- | --- |\n",
    "| A | 00 |\n",
    "| C | 01 |\n",
    "| G | 10 |\n",
    "| T | 11 |"
   ]
  },
  {
   "cell_type": "code",
   "execution_count": 8,
   "id": "0492563d-0a16-4fce-ba73-a64abc570e31",
   "metadata": {
    "editable": true,
    "slideshow": {
     "slide_type": ""
    },
    "tags": []
   },
   "outputs": [],
   "source": [
    "class CompressedGene:\n",
    "    def __init__(self, gene: str) -> None:\n",
    "        self._compress(gene)\n",
    "\n",
    "    def _compress(self, gene: str) -> None:\n",
    "        self.bit_string: int = 1\n",
    "        for nucleotide in gene.upper():\n",
    "            # shifting two bits to the left\n",
    "            self.bit_string <<= 2\n",
    "            if nucleotide == \"A\":\n",
    "                self.bit_string |= 0b00\n",
    "            elif nucleotide == \"C\":\n",
    "                self.bit_string |= 0b01\n",
    "            elif nucleotide == \"G\":\n",
    "                self.bit_string |= 0b10\n",
    "            elif nucleotide == \"T\":\n",
    "                self.bit_string |= 0b11\n",
    "            else:\n",
    "                raise ValueError(\"unvalid nucleotid:{}\".format(nucleotide))\n",
    "                \n",
    "    def decompress(self) -> str:\n",
    "        gene: str = \"\"\n",
    "        for i in range(0, self.bit_string.bit_length() - 1, 2):\n",
    "            bits: int = self.bit_string >> i & 0b11\n",
    "            if bits == 0b00:\n",
    "                gene += \"A\"\n",
    "            elif bits == 0b01:\n",
    "                gene += \"C\"\n",
    "            elif bits == 0b10:\n",
    "                gene += \"G\"\n",
    "            elif bits == 0b11:\n",
    "                gene += \"T\"\n",
    "            else:\n",
    "                raise ValueError(\"unvalid bits:{}\".format(bits))\n",
    "        return gene[::-1] # reverses str\n",
    "    \n",
    "    def __str__(self) -> str:\n",
    "        return self.decompress()"
   ]
  },
  {
   "cell_type": "code",
   "execution_count": 9,
   "id": "b989c7e6-8f49-4d90-8cfb-4e06923c741f",
   "metadata": {},
   "outputs": [
    {
     "name": "stdout",
     "output_type": "stream",
     "text": [
      "original: 2941 byte\n",
      "compressed: 800 byte\n",
      "original and decompressed are identical: True\n"
     ]
    }
   ],
   "source": [
    "from sys import getsizeof\n",
    "original: str = \"TAGGATTATTATTATTAGGATCGATTATA\" * 100\n",
    "\n",
    "print(\"original: {} byte\".format(getsizeof(original)))\n",
    "\n",
    "compressed: CompressedGene = CompressedGene(original)\n",
    "print(\"compressed: {} byte\".format(getsizeof(compressed.bit_string)))\n",
    "\n",
    "print(\"original and decompressed are identical: {}\".format(original == compressed.decompress()))"
   ]
  },
  {
   "cell_type": "code",
   "execution_count": null,
   "id": "e144e59a-e390-4f19-bf0e-c576dd9e6767",
   "metadata": {},
   "outputs": [],
   "source": []
  }
 ],
 "metadata": {
  "kernelspec": {
   "display_name": "Python 3 (ipykernel)",
   "language": "python",
   "name": "python3"
  },
  "language_info": {
   "codemirror_mode": {
    "name": "ipython",
    "version": 3
   },
   "file_extension": ".py",
   "mimetype": "text/x-python",
   "name": "python",
   "nbconvert_exporter": "python",
   "pygments_lexer": "ipython3",
   "version": "3.12.0"
  }
 },
 "nbformat": 4,
 "nbformat_minor": 5
}
